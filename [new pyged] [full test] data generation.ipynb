{
 "cells": [
  {
   "cell_type": "code",
   "execution_count": 1,
   "metadata": {},
   "outputs": [],
   "source": [
    "import sys\n",
    "sys.path.insert(0, './pyged/lib')\n",
    "import pyged\n",
    "\n",
    "import torch \n",
    "import numpy as np\n",
    "import matplotlib.pyplot as plt\n",
    "\n",
    "from torch_geometric.loader import DataLoader\n",
    "from torch_geometric.data import Data\n",
    "from torch_geometric.transforms import RemoveDuplicatedEdges\n",
    "from torch_geometric.utils import subgraph\n",
    "from multiprocessing import Pool, cpu_count\n",
    "import torch.multiprocessing as mp\n",
    "mp.set_sharing_strategy('file_system')\n",
    "from time import time\n",
    "\n",
    "from data.distances.OCTADataset import OCTADataset\n",
    "from data.distances.CitiesDataset import CitiesDataset\n",
    "from data.visualize_sample import draw_graph\n",
    "from data.distances.vis_utils import plot_ged_res, get_features_df, plot_hist\n",
    "from data.distances.gmd import _compute_gmd"
   ]
  },
  {
   "cell_type": "code",
   "execution_count": 2,
   "metadata": {},
   "outputs": [
    {
     "data": {
      "text/plain": [
       "<module 'pyged' from '/home/anna_alex/relationformer/./pyged/lib/pyged.cpython-311-x86_64-linux-gnu.so'>"
      ]
     },
     "execution_count": 2,
     "metadata": {},
     "output_type": "execute_result"
    }
   ],
   "source": [
    "from importlib import reload\n",
    "reload(pyged)"
   ]
  },
  {
   "cell_type": "code",
   "execution_count": 3,
   "metadata": {},
   "outputs": [],
   "source": [
    "def edge_lengths(g):\n",
    "    return torch.norm(g.pos, dim=1)\n",
    "\n",
    "def to_pyged(g):\n",
    "    nodes = [tuple(pos) for pos in g.pos.tolist()]\n",
    "    edges = list(zip(*g.edge_index.tolist(), edge_lengths(g).tolist()))\n",
    "    return (nodes, edges)\n",
    "\n",
    "def ged_func(data):\n",
    "    try:\n",
    "        query, target = data['pair'][0], data['pair'][1]\n",
    "        if query.edge_index.ndim == 1:\n",
    "            query.edge_index = torch.empty(2, 0)\n",
    "        if target.edge_index.ndim == 1:\n",
    "            target.edge_index = torch.empty(2, 0)\n",
    "        \n",
    "#         C_V = 1\n",
    "#         C_E = 10\n",
    "#         M = 1\n",
    "#         gmd = _compute_gmd([[query, target], C_V, C_E, M])\n",
    "\n",
    "#         data['gmd_e10'] = gmd['gmd']\n",
    "#         data['norm_gmd_e10'] = gmd['gmd'] / query.num_edges\n",
    "\n",
    "#         C_V = 10\n",
    "#         C_E = 1\n",
    "#         M = 1\n",
    "#         gmd = _compute_gmd([[query, target], C_V, C_E, M])\n",
    "\n",
    "#         data['gmd_v10'] = gmd['gmd']\n",
    "#         data['norm_gmd_v10'] = gmd['gmd'] / query.num_nodes\n",
    "            \n",
    "        q_pyged, t_pyged = to_pyged(query), to_pyged(target)\n",
    "        ged = pyged.ged_dist(q_pyged, t_pyged, method_name, method_args, cost_name)[1]\n",
    "        data['ged'] = ged\n",
    "    except Exception as e:\n",
    "        print(e)\n",
    "        print(data)\n",
    "        data['ged'] = 1000\n",
    "#         data['gmd_e10'] = 1000\n",
    "#         data['norm_gmd_e10'] = 1000\n",
    "#         data['gmd_v10'] = 1000\n",
    "#         data['norm_gmd_v10'] = 1000\n",
    "    \n",
    "    return data\n",
    "\n",
    "\n",
    "def calculate_graph_metrics(data):      \n",
    "    start_time = time()\n",
    "\n",
    "    with Pool(processes=cpu_count()) as pool:\n",
    "        data_with_ged = pool.map(ged_func, data, chunksize=1)\n",
    "    \n",
    "    end_time = time()\n",
    "    execution_time = end_time - start_time\n",
    "    print(f\"Execution time: {execution_time:.1f} seconds\")\n",
    "\n",
    "    return data_with_ged"
   ]
  },
  {
   "cell_type": "code",
   "execution_count": 4,
   "metadata": {},
   "outputs": [],
   "source": [
    "# f2, branch, ipfp\n",
    "method_name = ['f2']\n",
    "method_args = ['--threads 64 --time-limit 60']\n",
    "# base, node, edge\n",
    "cost_name = \"node\" "
   ]
  },
  {
   "cell_type": "code",
   "execution_count": 5,
   "metadata": {},
   "outputs": [],
   "source": [
    "data = torch.load('/media/data/anna_alex/distances/results/rf_results/full_500.pt')"
   ]
  },
  {
   "cell_type": "code",
   "execution_count": 6,
   "metadata": {},
   "outputs": [],
   "source": [
    "file_path = '/media/data/anna_alex/distances/results/rf_results/full_500_ged.pt'"
   ]
  },
  {
   "cell_type": "code",
   "execution_count": 7,
   "metadata": {},
   "outputs": [],
   "source": [
    "data = calculate_graph_metrics(data)"
   ]
  },
  {
   "cell_type": "code",
   "execution_count": 8,
   "metadata": {},
   "outputs": [],
   "source": [
    "torch.save(data, file_path)"
   ]
  },
  {
   "cell_type": "code",
   "execution_count": 9,
   "metadata": {},
   "outputs": [],
   "source": [
    "data = torch.load(file_path)"
   ]
  },
  {
   "cell_type": "code",
   "execution_count": 10,
   "metadata": {},
   "outputs": [],
   "source": [
    "idx = 34\n",
    "query, target = data[idx]['pair']"
   ]
  },
  {
   "cell_type": "code",
   "execution_count": null,
   "metadata": {},
   "outputs": [],
   "source": [
    "q_pyged, t_pyged = to_pyged(query), to_pyged(target)\n",
    "pyged.ged_dist(q_pyged, t_pyged, method_name, method_args, cost_name)"
   ]
  },
  {
   "cell_type": "code",
   "execution_count": null,
   "metadata": {},
   "outputs": [],
   "source": [
    "fig, ax = plt.subplots(1, 1)\n",
    "draw_graph(query.pos, query.edge_index.t(), ax)"
   ]
  },
  {
   "cell_type": "code",
   "execution_count": null,
   "metadata": {},
   "outputs": [],
   "source": [
    "draw_graph(target.pos, target.edge_index.t(), ax)"
   ]
  },
  {
   "cell_type": "code",
   "execution_count": null,
   "metadata": {},
   "outputs": [],
   "source": [
    "from torch_geometric.utils import to_networkx\n",
    "from data.distances.gmd import vis_mapping\n",
    "\n",
    "def e2e_gmd(results, idx, C_V=1.0, C_E=1.0, multiplier=1.0, shift=1):\n",
    "    g1, g2 = results[idx]['pair']\n",
    "    G1 = to_networkx(g1, node_attrs=[\"pos\"]).to_undirected()\n",
    "    G2 = to_networkx(g2, node_attrs=[\"pos\"]).to_undirected()\n",
    "    start_time = time()\n",
    "    res = _compute_gmd(((g1, g2), C_V, C_E, multiplier))\n",
    "    end_time = time()\n",
    "    execution_time = end_time - start_time\n",
    "    print(f\"GMD execution time: {execution_time:.2f} seconds\")\n",
    "        \n",
    "    print(f\"GMD: {res['gmd']}\")\n",
    "    vis_mapping(G1, G2, res['gmd_flow'], shift)"
   ]
  },
  {
   "cell_type": "code",
   "execution_count": null,
   "metadata": {},
   "outputs": [],
   "source": [
    "e2e_gmd([{'pair': (query, target)}], 0, shift=0)"
   ]
  },
  {
   "cell_type": "code",
   "execution_count": null,
   "metadata": {},
   "outputs": [],
   "source": [
    "query.pos"
   ]
  },
  {
   "cell_type": "code",
   "execution_count": null,
   "metadata": {},
   "outputs": [],
   "source": [
    "target.pos"
   ]
  },
  {
   "cell_type": "code",
   "execution_count": null,
   "metadata": {},
   "outputs": [],
   "source": []
  }
 ],
 "metadata": {
  "kernelspec": {
   "display_name": "greed",
   "language": "python",
   "name": "greed"
  },
  "language_info": {
   "codemirror_mode": {
    "name": "ipython",
    "version": 3
   },
   "file_extension": ".py",
   "mimetype": "text/x-python",
   "name": "python",
   "nbconvert_exporter": "python",
   "pygments_lexer": "ipython3",
   "version": "3.11.7"
  }
 },
 "nbformat": 4,
 "nbformat_minor": 2
}
