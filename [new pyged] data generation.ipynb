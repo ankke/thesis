{
 "cells": [
  {
   "cell_type": "code",
   "execution_count": 8,
   "metadata": {},
   "outputs": [],
   "source": [
    "import sys\n",
    "sys.path.insert(0, './pyged/lib')\n",
    "import pyged\n",
    "\n",
    "import torch \n",
    "import numpy as np\n",
    "import matplotlib.pyplot as plt\n",
    "\n",
    "from torch_geometric.loader import DataLoader\n",
    "from torch_geometric.data import Data\n",
    "from torch_geometric.transforms import RemoveDuplicatedEdges\n",
    "from torch_geometric.utils import subgraph\n",
    "from multiprocessing import Pool, cpu_count\n",
    "import torch.multiprocessing as mp\n",
    "mp.set_sharing_strategy('file_system')\n",
    "from time import time\n",
    "\n",
    "from data.distances.OCTADataset import OCTADataset\n",
    "from data.distances.CitiesDataset import CitiesDataset\n",
    "from data.visualize_sample import draw_graph\n",
    "from data.distances.vis_utils import plot_ged_res, get_features_df, plot_hist"
   ]
  },
  {
   "cell_type": "code",
   "execution_count": 9,
   "metadata": {},
   "outputs": [
    {
     "data": {
      "text/plain": [
       "<module 'pyged' from '/home/anna_alex/relationformer/./pyged/lib/pyged.cpython-311-x86_64-linux-gnu.so'>"
      ]
     },
     "execution_count": 9,
     "metadata": {},
     "output_type": "execute_result"
    }
   ],
   "source": [
    "from importlib import reload\n",
    "reload(pyged)"
   ]
  },
  {
   "cell_type": "code",
   "execution_count": 20,
   "metadata": {},
   "outputs": [],
   "source": [
    "def edge_lengths(g):\n",
    "    return torch.norm(g.pos, dim=1)\n",
    "\n",
    "def to_pyged(g):\n",
    "    nodes = [tuple(pos) for pos in g.pos.tolist()]\n",
    "    edges = list(zip(*g.edge_index.tolist(), edge_lengths(g).tolist()))\n",
    "    return (nodes, edges)\n",
    "\n",
    "def ged_func(args):\n",
    "    query, target = args[0], args[1]\n",
    "    q_pyged, t_pyged = to_pyged(query), to_pyged(target)\n",
    "    return query, target, pyged.ged_dist(q_pyged, t_pyged, method_name, method_args, cost_name), args[2]\n",
    "\n",
    "\n",
    "def calculate_ged(data):\n",
    "    start_time = time()\n",
    "\n",
    "    with Pool(processes=cpu_count()) as pool:\n",
    "        data_with_ged = pool.map(ged_func, data, chunksize=1)\n",
    "    \n",
    "    end_time = time()\n",
    "    execution_time = end_time - start_time\n",
    "    print(f\"GED execution time: {execution_time:.1f} seconds\")\n",
    "\n",
    "    return data_with_ged\n",
    "\n",
    "def generate(dataset, file_path, num_pairs=None):\n",
    "    if num_pairs is None:\n",
    "        num_pairs = len(dataset) // 2\n",
    "    data_loader = DataLoader(dataset, batch_size=2, shuffle=True)\n",
    "#     data_loader2 = DataLoader(dataset2, batch_size=1, shuffle=True)\n",
    "    graph_pairs = [(next(iter(data_loader))) for _ in range(num_pairs)]\n",
    "    # graph_pairs = [(dataset[i], dataset[i+1]) for i in range(0, num_pairs, 2)]\n",
    "    \n",
    "    graph_pairs_with_ged = calculate_ged(graph_pairs)\n",
    "\n",
    "    torch.save(graph_pairs_with_ged, file_path)\n",
    "    \n",
    "def generate_one(dataset, dataset2, query, file_path, num_pairs=None):\n",
    "    data_loader = DataLoader(dataset, batch_size=1, shuffle=True)\n",
    "    data_loader2 = DataLoader(dataset2, batch_size=1, shuffle=True)\n",
    "    graph_pairs = [(query, next(iter(data_loader)), 'octa') for _ in range(num_pairs)]\n",
    "    graph_pairs += [(query, next(iter(data_loader2)), 'cities') for _ in range(num_pairs)]\n",
    "    graph_pairs_with_ged = calculate_ged(graph_pairs)\n",
    "\n",
    "    torch.save(graph_pairs_with_ged, file_path)"
   ]
  },
  {
   "cell_type": "code",
   "execution_count": 21,
   "metadata": {},
   "outputs": [],
   "source": [
    "# f2, branch, ipfp\n",
    "method_name = ['f2']\n",
    "method_args = ['--threads 64 --time-limit 60']\n",
    "# base, node, edge\n",
    "cost_name = \"base\" "
   ]
  },
  {
   "cell_type": "code",
   "execution_count": 22,
   "metadata": {},
   "outputs": [],
   "source": [
    "dataset = CitiesDataset(root='/media/data/anna_alex/20cities/test_data')\n"
   ]
  },
  {
   "cell_type": "code",
   "execution_count": 23,
   "metadata": {},
   "outputs": [],
   "source": [
    "file_path = '/media/data/anna_alex/distances/results/random_pairs/pyged/cities_base_test.pt'"
   ]
  },
  {
   "cell_type": "code",
   "execution_count": 24,
   "metadata": {},
   "outputs": [
    {
     "name": "stdout",
     "output_type": "stream",
     "text": [
      "Academic license - for non-commercial use only - expires 2025-01-15\n",
      "Academic license - for non-commercial use only - expires 2025-01-15\n",
      "Academic license - for non-commercial use only - expires 2025-01-15\n",
      "Academic license - for non-commercial use only - expires 2025-01-15\n",
      "Academic license - for non-commercial use only - expires 2025-01-15\n",
      "Academic license - for non-commercial use only - expires 2025-01-15\n",
      "Academic license - for non-commercial use only - expires 2025-01-15\n",
      "Academic license - for non-commercial use only - expires 2025-01-15\n",
      "Academic license - for non-commercial use only - expires 2025-01-15\n",
      "Academic license - for non-commercial use only - expires 2025-01-15\n",
      "Academic license - for non-commercial use only - expires 2025-01-15\n",
      "Academic license - for non-commercial use only - expires 2025-01-15\n",
      "Academic license - for non-commercial use only - expires 2025-01-15\n",
      "Academic license - for non-commercial use only - expires 2025-01-15\n",
      "Academic license - for non-commercial use only - expires 2025-01-15\n",
      "Academic license - for non-commercial use only - expires 2025-01-15\n",
      "Academic license - for non-commercial use only - expires 2025-01-15\n",
      "Academic license - for non-commercial use only - expires 2025-01-15\n",
      "Academic license - for non-commercial use only - expires 2025-01-15\n",
      "Academic license - for non-commercial use only - expires 2025-01-15\n",
      "Academic license - for non-commercial use only - expires 2025-01-15\n",
      "Academic license - for non-commercial use only - expires 2025-01-15\n",
      "Academic license - for non-commercial use only - expires 2025-01-15\n",
      "Academic license - for non-commercial use only - expires 2025-01-15\n",
      "Academic license - for non-commercial use only - expires 2025-01-15\n",
      "Academic license - for non-commercial use only - expires 2025-01-15\n",
      "Academic license - for non-commercial use only - expires 2025-01-15\n",
      "Academic license - for non-commercial use only - expires 2025-01-15\n",
      "Academic license - for non-commercial use only - expires 2025-01-15\n",
      "Academic license - for non-commercial use only - expires 2025-01-15\n",
      "Academic license - for non-commercial use only - expires 2025-01-15\n",
      "Academic license - for non-commercial use only - expires 2025-01-15\n",
      "Academic license - for non-commercial use only - expires 2025-01-15\n",
      "Academic license - for non-commercial use only - expires 2025-01-15\n",
      "Academic license - for non-commercial use only - expires 2025-01-15\n",
      "Academic license - for non-commercial use only - expires 2025-01-15\n",
      "Academic license - for non-commercial use only - expires 2025-01-15\n",
      "Academic license - for non-commercial use only - expires 2025-01-15\n",
      "Academic license - for non-commercial use only - expires 2025-01-15\n",
      "Academic license - for non-commercial use only - expires 2025-01-15\n",
      "Academic license - for non-commercial use only - expires 2025-01-15\n",
      "Academic license - for non-commercial use only - expires 2025-01-15\n",
      "Academic license - for non-commercial use only - expires 2025-01-15\n",
      "Academic license - for non-commercial use only - expires 2025-01-15\n",
      "Academic license - for non-commercial use only - expires 2025-01-15\n",
      "Academic license - for non-commercial use only - expires 2025-01-15\n",
      "Academic license - for non-commercial use only - expires 2025-01-15\n",
      "Academic license - for non-commercial use only - expires 2025-01-15\n",
      "Academic license - for non-commercial use only - expires 2025-01-15\n",
      "Academic license - for non-commercial use only - expires 2025-01-15\n",
      "Academic license - for non-commercial use only - expires 2025-01-15\n",
      "Academic license - for non-commercial use only - expires 2025-01-15\n",
      "Academic license - for non-commercial use only - expires 2025-01-15\n",
      "Academic license - for non-commercial use only - expires 2025-01-15\n",
      "Academic license - for non-commercial use only - expires 2025-01-15\n",
      "Academic license - for non-commercial use only - expires 2025-01-15\n",
      "Academic license - for non-commercial use only - expires 2025-01-15\n",
      "Academic license - for non-commercial use only - expires 2025-01-15\n",
      "Academic license - for non-commercial use only - expires 2025-01-15\n",
      "Academic license - for non-commercial use only - expires 2025-01-15\n",
      "Academic license - for non-commercial use only - expires 2025-01-15\n",
      "Academic license - for non-commercial use only - expires 2025-01-15\n",
      "Academic license - for non-commercial use only - expires 2025-01-15\n",
      "Academic license - for non-commercial use only - expires 2025-01-15\n",
      "Academic license - for non-commercial use only - expires 2025-01-15\n",
      "Academic license - for non-commercial use only - expires 2025-01-15\n",
      "Academic license - for non-commercial use only - expires 2025-01-15\n",
      "Academic license - for non-commercial use only - expires 2025-01-15\n",
      "Academic license - for non-commercial use only - expires 2025-01-15\n",
      "Academic license - for non-commercial use only - expires 2025-01-15\n",
      "Academic license - for non-commercial use only - expires 2025-01-15\n",
      "Academic license - for non-commercial use only - expires 2025-01-15\n",
      "Academic license - for non-commercial use only - expires 2025-01-15\n",
      "Academic license - for non-commercial use only - expires 2025-01-15\n",
      "Academic license - for non-commercial use only - expires 2025-01-15\n",
      "Academic license - for non-commercial use only - expires 2025-01-15\n",
      "Academic license - for non-commercial use only - expires 2025-01-15\n",
      "Academic license - for non-commercial use only - expires 2025-01-15\n",
      "Academic license - for non-commercial use only - expires 2025-01-15\n",
      "Academic license - for non-commercial use only - expires 2025-01-15\n",
      "Academic license - for non-commercial use only - expires 2025-01-15\n",
      "Academic license - for non-commercial use only - expires 2025-01-15\n",
      "Academic license - for non-commercial use only - expires 2025-01-15\n",
      "Academic license - for non-commercial use only - expires 2025-01-15\n",
      "Academic license - for non-commercial use only - expires 2025-01-15\n",
      "Academic license - for non-commercial use only - expires 2025-01-15\n",
      "Academic license - for non-commercial use only - expires 2025-01-15\n",
      "Academic license - for non-commercial use only - expires 2025-01-15\n",
      "Academic license - for non-commercial use only - expires 2025-01-15\n",
      "Academic license - for non-commercial use only - expires 2025-01-15\n",
      "Academic license - for non-commercial use only - expires 2025-01-15\n",
      "Academic license - for non-commercial use only - expires 2025-01-15\n",
      "Academic license - for non-commercial use only - expires 2025-01-15\n",
      "Academic license - for non-commercial use only - expires 2025-01-15\n",
      "Academic license - for non-commercial use only - expires 2025-01-15\n",
      "Academic license - for non-commercial use only - expires 2025-01-15\n",
      "Academic license - for non-commercial use only - expires 2025-01-15\n",
      "Academic license - for non-commercial use only - expires 2025-01-15\n",
      "Academic license - for non-commercial use only - expires 2025-01-15\n",
      "Academic license - for non-commercial use only - expires 2025-01-15\n"
     ]
    },
    {
     "ename": "IndexError",
     "evalue": "index 3 is out of bounds for dimension 0 with size 3",
     "output_type": "error",
     "traceback": [
      "\u001b[0;31m---------------------------------------------------------------------------\u001b[0m",
      "\u001b[0;31mRemoteTraceback\u001b[0m                           Traceback (most recent call last)",
      "\u001b[0;31mRemoteTraceback\u001b[0m: \n\"\"\"\nTraceback (most recent call last):\n  File \"/home/anna_alex/miniconda3/lib/python3.11/multiprocessing/pool.py\", line 125, in worker\n    result = (True, func(*args, **kwds))\n                    ^^^^^^^^^^^^^^^^^^^\n  File \"/home/anna_alex/miniconda3/lib/python3.11/multiprocessing/pool.py\", line 48, in mapstar\n    return list(map(*args))\n           ^^^^^^^^^^^^^^^^\n  File \"/tmp/ipykernel_13616/1923122809.py\", line 12, in ged_func\n    return query, target, pyged.ged_dist(q_pyged, t_pyged, method_name, method_args, cost_name), args[2]\n                                                                                                 ~~~~^^^\n  File \"/home/anna_alex/miniconda3/lib/python3.11/site-packages/torch_geometric/data/batch.py\", line 171, in __getitem__\n    return self.get_example(idx)\n           ^^^^^^^^^^^^^^^^^^^^^\n  File \"/home/anna_alex/miniconda3/lib/python3.11/site-packages/torch_geometric/data/batch.py\", line 120, in get_example\n    data = separate(\n           ^^^^^^^^^\n  File \"/home/anna_alex/miniconda3/lib/python3.11/site-packages/torch_geometric/data/separate.py\", line 38, in separate\n    data_store[attr] = _separate(attr, batch_store[attr], idx, slices,\n                       ^^^^^^^^^^^^^^^^^^^^^^^^^^^^^^^^^^^^^^^^^^^^^^^\n  File \"/home/anna_alex/miniconda3/lib/python3.11/site-packages/torch_geometric/data/separate.py\", line 65, in _separate\n    start, end = int(slices[idx]), int(slices[idx + 1])\n                                       ~~~~~~^^^^^^^^^\nIndexError: index 3 is out of bounds for dimension 0 with size 3\n\"\"\"",
      "\nThe above exception was the direct cause of the following exception:\n",
      "\u001b[0;31mIndexError\u001b[0m                                Traceback (most recent call last)",
      "Cell \u001b[0;32mIn[24], line 1\u001b[0m\n\u001b[0;32m----> 1\u001b[0m generate(dataset, file_path, num_pairs\u001b[38;5;241m=\u001b[39m\u001b[38;5;241m100\u001b[39m)\n",
      "Cell \u001b[0;32mIn[20], line 35\u001b[0m, in \u001b[0;36mgenerate\u001b[0;34m(dataset, file_path, num_pairs)\u001b[0m\n\u001b[1;32m     32\u001b[0m graph_pairs \u001b[38;5;241m=\u001b[39m [(\u001b[38;5;28mnext\u001b[39m(\u001b[38;5;28miter\u001b[39m(data_loader))) \u001b[38;5;28;01mfor\u001b[39;00m _ \u001b[38;5;129;01min\u001b[39;00m \u001b[38;5;28mrange\u001b[39m(num_pairs)]\n\u001b[1;32m     33\u001b[0m \u001b[38;5;66;03m# graph_pairs = [(dataset[i], dataset[i+1]) for i in range(0, num_pairs, 2)]\u001b[39;00m\n\u001b[0;32m---> 35\u001b[0m graph_pairs_with_ged \u001b[38;5;241m=\u001b[39m calculate_ged(graph_pairs)\n\u001b[1;32m     37\u001b[0m torch\u001b[38;5;241m.\u001b[39msave(graph_pairs_with_ged, file_path)\n",
      "Cell \u001b[0;32mIn[20], line 19\u001b[0m, in \u001b[0;36mcalculate_ged\u001b[0;34m(data)\u001b[0m\n\u001b[1;32m     16\u001b[0m start_time \u001b[38;5;241m=\u001b[39m time()\n\u001b[1;32m     18\u001b[0m \u001b[38;5;28;01mwith\u001b[39;00m Pool(processes\u001b[38;5;241m=\u001b[39mcpu_count()) \u001b[38;5;28;01mas\u001b[39;00m pool:\n\u001b[0;32m---> 19\u001b[0m     data_with_ged \u001b[38;5;241m=\u001b[39m pool\u001b[38;5;241m.\u001b[39mmap(ged_func, data, chunksize\u001b[38;5;241m=\u001b[39m\u001b[38;5;241m1\u001b[39m)\n\u001b[1;32m     21\u001b[0m end_time \u001b[38;5;241m=\u001b[39m time()\n\u001b[1;32m     22\u001b[0m execution_time \u001b[38;5;241m=\u001b[39m end_time \u001b[38;5;241m-\u001b[39m start_time\n",
      "File \u001b[0;32m~/miniconda3/lib/python3.11/multiprocessing/pool.py:367\u001b[0m, in \u001b[0;36mPool.map\u001b[0;34m(self, func, iterable, chunksize)\u001b[0m\n\u001b[1;32m    362\u001b[0m \u001b[38;5;28;01mdef\u001b[39;00m \u001b[38;5;21mmap\u001b[39m(\u001b[38;5;28mself\u001b[39m, func, iterable, chunksize\u001b[38;5;241m=\u001b[39m\u001b[38;5;28;01mNone\u001b[39;00m):\n\u001b[1;32m    363\u001b[0m \u001b[38;5;250m    \u001b[39m\u001b[38;5;124;03m'''\u001b[39;00m\n\u001b[1;32m    364\u001b[0m \u001b[38;5;124;03m    Apply `func` to each element in `iterable`, collecting the results\u001b[39;00m\n\u001b[1;32m    365\u001b[0m \u001b[38;5;124;03m    in a list that is returned.\u001b[39;00m\n\u001b[1;32m    366\u001b[0m \u001b[38;5;124;03m    '''\u001b[39;00m\n\u001b[0;32m--> 367\u001b[0m     \u001b[38;5;28;01mreturn\u001b[39;00m \u001b[38;5;28mself\u001b[39m\u001b[38;5;241m.\u001b[39m_map_async(func, iterable, mapstar, chunksize)\u001b[38;5;241m.\u001b[39mget()\n",
      "File \u001b[0;32m~/miniconda3/lib/python3.11/multiprocessing/pool.py:774\u001b[0m, in \u001b[0;36mApplyResult.get\u001b[0;34m(self, timeout)\u001b[0m\n\u001b[1;32m    772\u001b[0m     \u001b[38;5;28;01mreturn\u001b[39;00m \u001b[38;5;28mself\u001b[39m\u001b[38;5;241m.\u001b[39m_value\n\u001b[1;32m    773\u001b[0m \u001b[38;5;28;01melse\u001b[39;00m:\n\u001b[0;32m--> 774\u001b[0m     \u001b[38;5;28;01mraise\u001b[39;00m \u001b[38;5;28mself\u001b[39m\u001b[38;5;241m.\u001b[39m_value\n",
      "\u001b[0;31mIndexError\u001b[0m: index 3 is out of bounds for dimension 0 with size 3"
     ]
    }
   ],
   "source": [
    "generate(dataset, file_path, num_pairs=100)"
   ]
  },
  {
   "cell_type": "code",
   "execution_count": null,
   "metadata": {},
   "outputs": [],
   "source": [
    "data = torch.load(file_path)"
   ]
  },
  {
   "cell_type": "code",
   "execution_count": null,
   "metadata": {},
   "outputs": [],
   "source": [
    "data_dict = [{'pair': (d[0], d[1]), 'ged': round(d[2][1], 2), 'dataset': 'cities'} for d in data]\n",
    "df_data = get_features_df(data_dict)"
   ]
  },
  {
   "cell_type": "code",
   "execution_count": null,
   "metadata": {},
   "outputs": [],
   "source": [
    "def sort(results, key, reverse=False):\n",
    "    return sorted(results, key=lambda x: x[key], reverse=reverse)"
   ]
  },
  {
   "cell_type": "code",
   "execution_count": null,
   "metadata": {},
   "outputs": [],
   "source": [
    "plot_ged_res(sort(df_data.to_dict(orient='records'), 'ged')[40:60])"
   ]
  },
  {
   "cell_type": "code",
   "execution_count": null,
   "metadata": {},
   "outputs": [],
   "source": [
    "plot_ged_res(sort(df_data.to_dict(orient='records'), 'ged', reverse=True)[:20])"
   ]
  },
  {
   "cell_type": "code",
   "execution_count": null,
   "metadata": {},
   "outputs": [],
   "source": [
    "import plotly.express as px\n",
    "\n",
    "def plot_hist(df, x=\"ged\", nbins=None):\n",
    "    fig = px.histogram(df, x=x, nbins=nbins, color=\"dataset\")\n",
    "    fig.show()"
   ]
  },
  {
   "cell_type": "code",
   "execution_count": null,
   "metadata": {},
   "outputs": [],
   "source": [
    "plot_hist(df_data)"
   ]
  },
  {
   "cell_type": "code",
   "execution_count": null,
   "metadata": {},
   "outputs": [],
   "source": []
  }
 ],
 "metadata": {
  "kernelspec": {
   "display_name": "greed",
   "language": "python",
   "name": "greed"
  },
  "language_info": {
   "codemirror_mode": {
    "name": "ipython",
    "version": 3
   },
   "file_extension": ".py",
   "mimetype": "text/x-python",
   "name": "python",
   "nbconvert_exporter": "python",
   "pygments_lexer": "ipython3",
   "version": "3.11.7"
  }
 },
 "nbformat": 4,
 "nbformat_minor": 2
}
