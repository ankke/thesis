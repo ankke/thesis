{
 "cells": [
  {
   "cell_type": "code",
   "execution_count": 6,
   "metadata": {},
   "outputs": [],
   "source": [
    "import torch\n",
    "import torch.nn.functional as F"
   ]
  },
  {
   "cell_type": "code",
   "execution_count": 7,
   "metadata": {},
   "outputs": [
    {
     "name": "stdout",
     "output_type": "stream",
     "text": [
      "tensor([[[-0.6386, -0.1595],\n",
      "         [-0.1098,  0.2167]],\n",
      "\n",
      "        [[-0.3511, -0.0061],\n",
      "         [ 0.9384,  0.5998]]], requires_grad=True)\n",
      "tensor([[1., 1.],\n",
      "        [1., 0.]])\n",
      "Gradients of 'pred_logits': tensor([[[0., 0.],\n",
      "         [0., 0.]],\n",
      "\n",
      "        [[0., 0.],\n",
      "         [0., 0.]]])\n"
     ]
    }
   ],
   "source": [
    "pred_logits = torch.randn(2, 2, 2, requires_grad=True)\n",
    "\n",
    "print(pred_logits)\n",
    "\n",
    "valid_token = torch.clone(pred_logits)\n",
    "valid_token[:, :, 1][valid_token[:, :, 1] > valid_token[:, :, 0]] = 1\n",
    "valid_token[:, :, 1][valid_token[:, :, 1] <= valid_token[:, :, 0]] = 0\n",
    "binary_mask = valid_token[:, :, 1]\n",
    "\n",
    "ground_truth = torch.randint(0, 2, (2, 2)).float()\n",
    "\n",
    "print(ground_truth)\n",
    "\n",
    "loss = F.l1_loss(binary_mask, ground_truth)\n",
    "loss.backward()\n",
    "\n",
    "print(\"Gradients of 'pred_logits':\", pred_logits.grad)"
   ]
  },
  {
   "cell_type": "code",
   "execution_count": 8,
   "metadata": {},
   "outputs": [
    {
     "name": "stdout",
     "output_type": "stream",
     "text": [
      "Gradients of 'pred_logits': tensor([[-0.1484, -0.0330],\n",
      "        [-0.1690,  0.0937]])\n"
     ]
    }
   ],
   "source": [
    "pred_logits = torch.randn(2, 2, requires_grad=True)\n",
    "loss = F.binary_cross_entropy_with_logits(pred_logits, ground_truth)\n",
    "loss.backward()\n",
    "\n",
    "print(\"Gradients of 'pred_logits':\", pred_logits.grad)\n"
   ]
  },
  {
   "cell_type": "code",
   "execution_count": null,
   "metadata": {},
   "outputs": [],
   "source": []
  }
 ],
 "metadata": {
  "kernelspec": {
   "display_name": "rf",
   "language": "python",
   "name": "rf"
  },
  "language_info": {
   "codemirror_mode": {
    "name": "ipython",
    "version": 3
   },
   "file_extension": ".py",
   "mimetype": "text/x-python",
   "name": "python",
   "nbconvert_exporter": "python",
   "pygments_lexer": "ipython3",
   "version": "3.10.7"
  }
 },
 "nbformat": 4,
 "nbformat_minor": 2
}
