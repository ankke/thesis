{
 "cells": [
  {
   "cell_type": "code",
   "execution_count": 1,
   "id": "78451097",
   "metadata": {},
   "outputs": [],
   "source": [
    "import matplotlib.pyplot as plt"
   ]
  },
  {
   "cell_type": "code",
   "execution_count": 2,
   "id": "535ab188",
   "metadata": {},
   "outputs": [],
   "source": [
    "from data.distances.CitiesDataset import CitiesDataset\n",
    "from data.distances.generator import generate_random_pairs, generate_one_to_many\n",
    "from data.visualize_sample import draw_graph"
   ]
  },
  {
   "cell_type": "code",
   "execution_count": null,
   "id": "46826621",
   "metadata": {},
   "outputs": [
    {
     "name": "stderr",
     "output_type": "stream",
     "text": [
      "Processing...\n",
      " 26%|█████████████████████████████████████████                                                                                                                      | 32061/124068 [29:38<1:16:15, 20.11it/s]"
     ]
    }
   ],
   "source": [
    "dataset = CitiesDataset()"
   ]
  },
  {
   "cell_type": "markdown",
   "id": "a34356e1",
   "metadata": {},
   "source": [
    "## Random pairs"
   ]
  },
  {
   "cell_type": "code",
   "execution_count": 4,
   "id": "a07fb4b3",
   "metadata": {},
   "outputs": [
    {
     "name": "stdout",
     "output_type": "stream",
     "text": [
      "Execution time: 20.221079349517822 seconds\n"
     ]
    },
    {
     "data": {
      "text/plain": [
       "'/home/anna_alex/relationformer/data/distances/results/ged_real_octa_t10_n10.pth'"
      ]
     },
     "execution_count": 4,
     "metadata": {},
     "output_type": "execute_result"
    }
   ],
   "source": [
    "generate_ged_random_pairs(dataset, num_pairs=10, timeout=10)"
   ]
  },
  {
   "cell_type": "markdown",
   "id": "c201d03d",
   "metadata": {},
   "source": [
    "## One random with all others"
   ]
  },
  {
   "cell_type": "code",
   "execution_count": null,
   "id": "b07d7775",
   "metadata": {},
   "outputs": [],
   "source": [
    "id_ = 150\n",
    "query = dataset[id_]"
   ]
  },
  {
   "cell_type": "code",
   "execution_count": null,
   "id": "fd4f386e",
   "metadata": {},
   "outputs": [],
   "source": [
    "fig, ax = plt.subplots(1, 1)\n",
    "draw_graph(query.pos, query.edge_index.t(), ax)"
   ]
  },
  {
   "cell_type": "code",
   "execution_count": null,
   "id": "6442779d",
   "metadata": {},
   "outputs": [],
   "source": [
    "generate_ged_one_to_many(dataset, id_)"
   ]
  },
  {
   "cell_type": "code",
   "execution_count": 10,
   "id": "9e7b3d8d",
   "metadata": {},
   "outputs": [
    {
     "data": {
      "text/plain": [
       "2.773972222222222"
      ]
     },
     "execution_count": 10,
     "metadata": {},
     "output_type": "execute_result"
    }
   ],
   "source": [
    "9986.3 / 3600"
   ]
  },
  {
   "cell_type": "code",
   "execution_count": 5,
   "id": "5a3875a1",
   "metadata": {},
   "outputs": [
    {
     "name": "stdout",
     "output_type": "stream",
     "text": [
      "Execution time: 54.8 seconds\n"
     ]
    },
    {
     "data": {
      "text/plain": [
       "'/media/data/anna_alex/distances/results/random_pairs/ged/real_octa_t10_n50.pth'"
      ]
     },
     "execution_count": 5,
     "metadata": {},
     "output_type": "execute_result"
    }
   ],
   "source": [
    "generate_random_pairs('ged', dataset)"
   ]
  },
  {
   "cell_type": "code",
   "execution_count": null,
   "id": "a1bb8ea6",
   "metadata": {},
   "outputs": [],
   "source": []
  }
 ],
 "metadata": {
  "kernelspec": {
   "display_name": "rf_org",
   "language": "python",
   "name": "rf_org"
  },
  "language_info": {
   "codemirror_mode": {
    "name": "ipython",
    "version": 3
   },
   "file_extension": ".py",
   "mimetype": "text/x-python",
   "name": "python",
   "nbconvert_exporter": "python",
   "pygments_lexer": "ipython3",
   "version": "3.10.7"
  }
 },
 "nbformat": 4,
 "nbformat_minor": 5
}
